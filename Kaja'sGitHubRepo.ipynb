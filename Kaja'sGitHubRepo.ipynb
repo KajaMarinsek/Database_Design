{
    "metadata": {
        "kernelspec": {
            "name": "python3",
            "display_name": "Python 3",
            "language": "python"
        },
        "language_info": {
            "name": "python",
            "version": "3.8.10",
            "mimetype": "text/x-python",
            "codemirror_mode": {
                "name": "ipython",
                "version": 3
            },
            "pygments_lexer": "ipython3",
            "nbconvert_exporter": "python",
            "file_extension": ".py"
        },
        "colab": {
            "provenance": [],
            "authorship_tag": "ABX9TyMbB9RkJ1Feqasi/Y7m1f8P"
        }
    },
    "nbformat_minor": 2,
    "nbformat": 4,
    "cells": [
        {
            "cell_type": "code",
            "source": [],
            "metadata": {
                "id": "7OH1g2WJuTbd",
                "azdata_cell_guid": "c4bf871a-8b90-42e1-a499-ed1b05dac81f",
                "language": "python"
            },
            "outputs": [],
            "execution_count": null
        },
        {
            "cell_type": "markdown",
            "source": [
                " ### Assignment - GitHub Repo:\n",
                "\n",
                "\n",
                "Link to your online GitHub repo containing the following:\n",
                "\n",
                " -  .ipynb notebook containing the following :\n",
                "Markdown cells explaining the process used within your script we built in class (or a database you created for own use) and subsequent SQL code cells, for both:\n",
                " -- the DDL (table builds) -  5pts for the MDL and 5pts for the SQL Code itself and\n",
                " -- the Data Loading Scripts -  5pts for the MDL and 5pts for the SQL Code itself\n",
                "\n",
                "Using draw.io create a diagram of the datamart and include it on your GitHub repository along with the .ipynb(s) as shown above  (10 pts)\n"
            ],
            "metadata": {
                "id": "MK6ZPbFdupOE",
                "azdata_cell_guid": "0dce726e-13f1-482d-8058-0eb680d4a266"
            }
        },
        {
            "cell_type": "markdown",
            "source": [
                "## OK, here we go!\n",
                "\n",
                "I am using Colab to create this .ipynb, because i though Jupiter Notebook needs to be purchased, than i started to research more about it cause they said it is open source, hence free, but it got even more complicated with some random namedroping of conda, pip and what not, and that was that.\n",
                "\n",
                "### OK, now we go!!\n",
                "\n",
                "In class we used Data Definition Language (DDL) to create a *star schema* of database called **TargetMart**.\n",
                "\n",
                "We started with creating *schemas*. (I ran this code in Azure Studio, becauase when i tried to run it in here i got SyntaxError: invalid syntax and they suggested I search stack overflow :)"
            ],
            "metadata": {
                "id": "O-QCa557vKux",
                "azdata_cell_guid": "4652e22f-1fe9-481a-a0e8-50b0528fcdac"
            }
        },
        {
            "cell_type": "code",
            "source": [
                "USE TargetMart;\n",
                "GO\n",
                "\n",
                "/*********************************************************/\n",
                "/******************    Schema DDL       ******************/\n",
                "/*********************************************************/\n",
                "\n",
                "IF NOT EXISTS (SELECT * FROM sys.schemas WHERE name = 'dim' )\n",
                "BEGIN\n",
                "\tEXEC sp_executesql N'CREATE SCHEMA dim AUTHORIZATION dbo;'\n",
                "END\n",
                ";\n",
                "\n",
                "GO\n",
                "\n",
                "IF NOT EXISTS (SELECT * FROM sys.schemas WHERE name = 'stg' )\n",
                "BEGIN\n",
                "\tEXEC sp_executesql N'CREATE SCHEMA stg AUTHORIZATION dbo;'\n",
                "END\n",
                ";\n",
                "\n",
                "GO\n",
                "\n",
                "IF NOT EXISTS (SELECT * FROM sys.schemas WHERE name = 'f' )\n",
                "BEGIN\n",
                "\tEXEC sp_executesql N'CREATE SCHEMA f AUTHORIZATION dbo;'\n",
                "END\n",
                ";\n",
                "\n",
                "GO\n"
            ],
            "metadata": {
                "colab": {
                    "base_uri": "https://localhost:8080/",
                    "height": 140
                },
                "id": "DlyFgU63vBLm",
                "executionInfo": {
                    "status": "error",
                    "timestamp": 1702078114336,
                    "user_tz": 240,
                    "elapsed": 10,
                    "user": {
                        "displayName": "Kaja Marinsek",
                        "userId": "02215496178293307084"
                    }
                },
                "outputId": "c71aeddb-9934-4fce-8721-bb6373bcb0f8",
                "azdata_cell_guid": "c48deea4-19b5-4810-82d3-7015aee0b32b",
                "language": "python"
            },
            "outputs": [],
            "execution_count": null
        },
        {
            "cell_type": "markdown",
            "source": [],
            "metadata": {
                "id": "OojQP9wYvIaY",
                "azdata_cell_guid": "f58b9ccf-4659-4580-9394-2eb3a85445a3"
            }
        },
        {
            "cell_type": "markdown",
            "source": [
                "We continued creating *dimension tables* first, beacuse in the design of star schema database the information flows from dimensions to the fact table(s)."
            ],
            "metadata": {
                "id": "g87zSJM3w_Wy",
                "azdata_cell_guid": "9950606f-0e89-43e2-9efd-c5912a027063"
            }
        }
    ]
}