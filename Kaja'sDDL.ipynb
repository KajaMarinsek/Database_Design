{
    "metadata": {
        "kernelspec": {
            "name": "SQL",
            "display_name": "SQL",
            "language": "sql"
        },
        "language_info": {
            "name": "sql",
            "version": ""
        },
        "colab": {
            "provenance": [
                {
                    "file_id": "1rgjSfylCj5FiNVAIA0Aiag2XnTjwIe3C",
                    "timestamp": 1702079669688
                }
            ],
            "authorship_tag": "ABX9TyMgP5sR8MD3W6O65IcCo39Z"
        }
    },
    "nbformat_minor": 2,
    "nbformat": 4,
    "cells": [
        {
            "cell_type": "code",
            "source": [],
            "metadata": {
                "id": "7OH1g2WJuTbd",
                "azdata_cell_guid": "7838e9f6-f410-465d-9767-62816e1c263c",
                "language": "sql"
            },
            "outputs": [],
            "execution_count": null
        },
        {
            "cell_type": "markdown",
            "source": [
                "## The Star Shema - Building the Database\n",
                "\n",
                "### OK, let's go!!\n",
                "\n",
                "In class we used Data Definition Language (DDL) to create a _star schema_ of database called **TargetMart**.\n",
                "\n",
                "We started with creating _schemas_. A schema  is a logical container for database objects such as tables, views, stored procedures, and functions. \n",
                " \n",
                " If wanting to learn more, follow this link\n",
                "https://learn.microsoft.com/en-us/sql/t-sql/statements/create-schema-transact-sql?view=sql-server-ver16"
            ],
            "metadata": {
                "id": "O-QCa557vKux",
                "azdata_cell_guid": "b3f7d624-1687-4ff6-89c6-19fb27d6ecbd"
            },
            "attachments": {}
        },
        {
            "cell_type": "code",
            "source": [
                "USE TargetMart;\n",
                "GO\n",
                "\n",
                "/*********************************************************/\n",
                "/******************    Schema DDL       ******************/\n",
                "/*********************************************************/\n",
                "\n",
                "IF NOT EXISTS (SELECT * FROM sys.schemas WHERE name = 'dim' )\n",
                "BEGIN\n",
                "\tEXEC sp_executesql N'CREATE SCHEMA dim AUTHORIZATION dbo;'\n",
                "END\n",
                ";\n",
                "\n",
                "GO\n",
                "\n",
                "IF NOT EXISTS (SELECT * FROM sys.schemas WHERE name = 'stg' )\n",
                "BEGIN\n",
                "\tEXEC sp_executesql N'CREATE SCHEMA stg AUTHORIZATION dbo;'\n",
                "END\n",
                ";\n",
                "\n",
                "GO\n",
                "\n",
                "IF NOT EXISTS (SELECT * FROM sys.schemas WHERE name = 'f' )\n",
                "BEGIN\n",
                "\tEXEC sp_executesql N'CREATE SCHEMA f AUTHORIZATION dbo;'\n",
                "END\n",
                ";\n",
                "\n",
                "GO\n",
                "\n",
                "IF NOT EXISTS (SELECT * FROM sys.schemas WHERE name = 'rpt' ) \n",
                "BEGIN\n",
                "\tEXEC sp_executesql N'CREATE SCHEMA rpt AUTHORIZATION dbo;'\n",
                "END\n",
                ";\n",
                "\n",
                "GO\n",
                "\n",
                ""
            ],
            "metadata": {
                "colab": {
                    "base_uri": "https://localhost:8080/",
                    "height": 140
                },
                "id": "DlyFgU63vBLm",
                "executionInfo": {
                    "status": "error",
                    "timestamp": 1702078114336,
                    "user_tz": 240,
                    "elapsed": 10,
                    "user": {
                        "displayName": "Kaja Marinsek",
                        "userId": "02215496178293307084"
                    }
                },
                "outputId": "c71aeddb-9934-4fce-8721-bb6373bcb0f8",
                "azdata_cell_guid": "d51b0557-e7b5-49ef-910f-d5772e2be62f",
                "language": "sql",
                "tags": []
            },
            "outputs": [
                {
                    "output_type": "display_data",
                    "data": {
                        "text/html": "Commands completed successfully."
                    },
                    "metadata": {}
                },
                {
                    "output_type": "display_data",
                    "data": {
                        "text/html": "Commands completed successfully."
                    },
                    "metadata": {}
                },
                {
                    "output_type": "display_data",
                    "data": {
                        "text/html": "Commands completed successfully."
                    },
                    "metadata": {}
                },
                {
                    "output_type": "display_data",
                    "data": {
                        "text/html": "Commands completed successfully."
                    },
                    "metadata": {}
                },
                {
                    "output_type": "display_data",
                    "data": {
                        "text/html": "Commands completed successfully."
                    },
                    "metadata": {}
                },
                {
                    "output_type": "display_data",
                    "data": {
                        "text/html": "Total execution time: 00:00:00.008"
                    },
                    "metadata": {}
                }
            ],
            "execution_count": 17
        },
        {
            "cell_type": "markdown",
            "source": [
                "![](c:\\Users\\dharm\\Desktop\\Nov2023&#32;DataDESIGN\\STARSCHEMSsideScreenshot&#32;2023-12-08&#32;211531.png)\r\n",
                ""
            ],
            "metadata": {
                "azdata_cell_guid": "d1defb57-ab72-42bd-8180-406e9c210c49"
            },
            "attachments": {}
        },
        {
            "cell_type": "markdown",
            "source": [
                "We continued creating 5 _dimension tables_ / _lookup tables_ first, beacuse in the design of star schema database structure, the information flows from dimensions to the _fact table(s) / metric table(s)._"
            ],
            "metadata": {
                "id": "g87zSJM3w_Wy",
                "azdata_cell_guid": "e498fc96-d047-4730-b9c7-03d8a3c6dede"
            },
            "attachments": {}
        },
        {
            "cell_type": "code",
            "source": [
                "\n",
                "/*********************************************************/\n",
                "/******************  Customer DIM DDL   ******************/\n",
                "/*********************************************************/\n",
                "\n",
                "IF NOT EXISTS (SELECT * FROM INFORMATION_SCHEMA.TABLES WHERE TABLE_SCHEMA = 'dim' AND TABLE_NAME = 'Customers')\n",
                "BEGIN\n",
                "\tCREATE TABLE dim.Customers(\n",
                "\tpkCustomer int IDENTITY(1000,1) NOT NULL,\n",
                "\tCustomerID nvarchar(5) NOT NULL,\n",
                "\tCustomer nvarchar(40) NOT NULL,\n",
                "\tCity nvarchar(15) NULL,\n",
                "\tCountry nvarchar(15) NULL,\n",
                "\tLoadDate DATE NOT NULL,\n",
                "\tSourceCountry nvarchar(25) NULL\n",
                "\t)\n",
                "\t;\n",
                "\n",
                "\tALTER TABLE dim.Customers\n",
                "\tADD CONSTRAINT PK_Customers_LUP PRIMARY KEY(pkCustomer);\n",
                "\n",
                "\tALTER TABLE dim.Customers\n",
                "    ADD CONSTRAINT UC_Customers_ID UNIQUE (CustomerID);\n",
                "\n",
                "END\n",
                "\n",
                "GO\n",
                "\n",
                "/*********************************************************/\n",
                "/****************** Calendar DIM Script ******************/\n",
                "/*********************************************************/\n",
                "\n",
                "IF NOT EXISTS (SELECT * FROM INFORMATION_SCHEMA.TABLES WHERE TABLE_SCHEMA = 'dim' AND TABLE_NAME = 'Calendar')\n",
                "BEGIN\n",
                "-- Create the Calendar table\n",
                "CREATE TABLE dim.Calendar\n",
                "(\n",
                "    pkCalendar INT NOT NULL,\n",
                "    DateValue DATE NOT NULL,\n",
                "    Year INT NOT NULL,\n",
                "    Quarter INT NOT NULL,\n",
                "\tQtr VARCHAR(3) NOT NULL,\n",
                "    Month INT NOT NULL,\n",
                "    MonthName VARCHAR(10) NOT NULL,\n",
                "\tMonthShort VARCHAR(3) NOT NULL,\n",
                "    Week INT NOT NULL,\n",
                "    Day INT NOT NULL,\n",
                "\tDayName VARCHAR(10) NOT NULL,\n",
                "\tDayShort VARCHAR(3) NOT NULL,\n",
                "    IsWeekday BIT NOT NULL,\n",
                "\tWeekday VARCHAR(3) NOT NULL\n",
                ");\n",
                "\n",
                "\tALTER TABLE dim.Calendar\n",
                "\tADD CONSTRAINT PK_Calendar_Julian PRIMARY KEY(pkCalendar);\n",
                "\n",
                "\tALTER TABLE dim.Calendar\n",
                "    ADD CONSTRAINT UC_Calendar UNIQUE (DateValue);\n",
                "END\n",
                "\n",
                "GO\n",
                "\n",
                "/*********************************************************/\n",
                "/******************  Shipper DIM DDL    ******************/\n",
                "/*********************************************************/\n",
                "\n",
                "IF NOT EXISTS (SELECT * FROM INFORMATION_SCHEMA.TABLES WHERE TABLE_SCHEMA = 'dim' AND TABLE_NAME = 'Shipper')\n",
                "BEGIN\n",
                "-- Create the Calendar table\n",
                "CREATE TABLE dim.Shipper\n",
                "(\n",
                "    pkShipId int not null,\n",
                "\tShipper nvarchar(40) not null,\n",
                "\tPhone nvarchar(24) null\n",
                ");\n",
                "\n",
                "\tALTER TABLE dim.Shipper\n",
                "\tADD CONSTRAINT PK_Ship PRIMARY KEY(pkShipId);\n",
                "END\n",
                "\n",
                "GO\n",
                "\n",
                "/*********************************************************/\n",
                "/******************  Products DIM DDL   ******************/\n",
                "/*********************************************************/\n",
                "\n",
                "IF NOT EXISTS (SELECT * FROM INFORMATION_SCHEMA.TABLES WHERE TABLE_SCHEMA = 'dim' AND TABLE_NAME = 'Products')\n",
                "BEGIN\n",
                "CREATE TABLE dim.Products(\n",
                "\tpkProdId int NOT NULL,\n",
                "\tProductId int NOT NULL,\n",
                "\tProduct nvarchar(50) NOT NULL,\n",
                "\tProductCategory nvarchar(25) NOT NULL,\n",
                "\tCategoryDesc ntext NULL,\n",
                "\tUnitPrice money NULL,\n",
                "\tUnitsInStock int NULL,\n",
                "\tUnitsOnOrder int NULL,\n",
                "\tReorderLevel int NULL,\n",
                "\tDiscontinued bit NOT NULL,\n",
                "\tReorderFlag nvarchar(3) NOT NULL\n",
                ");\n",
                "\n",
                "\tALTER TABLE dim.Products\n",
                "\tADD CONSTRAINT PK_Prods PRIMARY KEY(pkProdId);\n",
                "\n",
                "\tALTER TABLE dim.Products\n",
                "    ADD CONSTRAINT UC_Prods UNIQUE (ProductId);\n",
                "END\n",
                ";\n",
                "GO\n",
                "\n",
                "/*********************************************************/\n",
                "/******************  Employees DIM DDL   ******************/\n",
                "/*********************************************************/\n",
                "\n",
                "IF NOT EXISTS (SELECT * FROM INFORMATION_SCHEMA.TABLES WHERE TABLE_SCHEMA = 'dim' AND TABLE_NAME = 'Employees')\n",
                "BEGIN\n",
                "CREATE TABLE dim.Employees(\n",
                "\tEmployeeID int NOT NULL,\n",
                "\tEmployee nvarchar(50) NOT NULL,\n",
                "\tTitle nvarchar(30) NULL,\n",
                "\tBirthDate datetime NULL,\n",
                "\tHireDate datetime NULL,\n",
                "\tCity nvarchar(15) NULL,\n",
                "\tCountry nvarchar(15) NULL,\n",
                "\tReportsTo int NULL\n",
                ");\n",
                "\tALTER TABLE dim.Employees\n",
                "\tADD CONSTRAINT PK_Emp PRIMARY KEY(EmployeeID);\n",
                "\n",
                "END\n",
                "\n",
                "GO\n"
            ],
            "metadata": {
                "id": "uKqZN07vHWWC",
                "azdata_cell_guid": "fc441d92-885a-44a7-9c2e-675327cb1dd5",
                "language": "sql"
            },
            "outputs": [
                {
                    "output_type": "display_data",
                    "data": {
                        "text/html": "Commands completed successfully."
                    },
                    "metadata": {}
                },
                {
                    "output_type": "display_data",
                    "data": {
                        "text/html": "Commands completed successfully."
                    },
                    "metadata": {}
                },
                {
                    "output_type": "display_data",
                    "data": {
                        "text/html": "Commands completed successfully."
                    },
                    "metadata": {}
                },
                {
                    "output_type": "display_data",
                    "data": {
                        "text/html": "Commands completed successfully."
                    },
                    "metadata": {}
                },
                {
                    "output_type": "display_data",
                    "data": {
                        "text/html": "Commands completed successfully."
                    },
                    "metadata": {}
                },
                {
                    "output_type": "display_data",
                    "data": {
                        "text/html": "Total execution time: 00:00:00.051"
                    },
                    "metadata": {}
                }
            ],
            "execution_count": 6
        },
        {
            "cell_type": "markdown",
            "source": [
                "In the end of the DDL script we created 2 fact tables, within each we specified PRIMARY KEY and added CONSTRAINTS of FOREIGN KEYs to create connections to the dimension tables."
            ],
            "metadata": {
                "id": "7CJ4HFo3G8bh",
                "azdata_cell_guid": "fdb12c7c-5973-40b9-bf2a-a7caeb567e88"
            },
            "attachments": {}
        },
        {
            "cell_type": "code",
            "source": [
                "\n",
                "/*********************************************************/\n",
                "/*********************************************************/\n",
                "/*********************************************************/\n",
                "/******************  Fact Table Builds  ******************/\n",
                "/*********************************************************/\n",
                "/*********************************************************/\n",
                "/*********************************************************/\n",
                "\n",
                "\n",
                "\n",
                "/*********************************************************/\n",
                "/******************  OrderPerf f.Table  ******************/\n",
                "/*********************************************************/\n",
                "\n",
                "-- OrderID, OrderDate, Customer, Freight(f)\n",
                "IF EXISTS (SELECT * FROM INFORMATION_SCHEMA.TABLES WHERE TABLE_SCHEMA = 'f' AND TABLE_NAME = 'OrderPerf')\n",
                "BEGIN\n",
                "\tDROP TABLE f.OrderPerf;\n",
                "END\n",
                "\n",
                "GO\n",
                "\n",
                "CREATE TABLE f.OrderPerf(\n",
                "\tOrderID int NOT NULL,\n",
                "\tfkCalendar int NOT NULL,\n",
                "\tfkCustomer int NOT NULL,\n",
                "\tfkShipper int NULL,\n",
                "\tfkEmployee int NULL,\n",
                "\tFreight money NOT NULL,\n",
                "\tDaysToShip int NULL,\n",
                "\tDaysTilRequired int NULL,\n",
                "\tOrderCount int NOT NULL\n",
                ");\n",
                "\n",
                "-- Could use PRIMARY or UNIQUE for the ORDERID - just used to not load dupes\n",
                "\n",
                "ALTER TABLE f.OrderPerf\n",
                "ADD CONSTRAINT PK_ORD PRIMARY KEY(OrderID)\n",
                ";\n",
                "\n",
                "ALTER TABLE f.OrderPerf\n",
                "ADD CONSTRAINT FK_ORDtoCAL\n",
                "\tFOREIGN KEY (fkCalendar)              -- FROM the LOCAL TABLE\n",
                "\t REFERENCES  dim.Calendar(pkCalendar) -- TO the FOREIGN TABLE\n",
                ";\n",
                "\n",
                "ALTER TABLE f.OrderPerf\n",
                "ADD CONSTRAINT FK_ORDtoCUST\n",
                "\tFOREIGN KEY (fkCustomer)              -- FROM the LOCAL TABLE\n",
                "\t REFERENCES  dim.Customers(pkCustomer) -- TO the FOREIGN TABLE\n",
                ";\n",
                "\n",
                "ALTER TABLE f.OrderPerf\n",
                "ADD CONSTRAINT FK_ORDtoSHIP\n",
                "\tFOREIGN KEY (fkShipper)\n",
                "\t REFERENCES dim.Shipper(pkShipId)\n",
                ";\n",
                "\n",
                "ALTER TABLE f.OrderPerf\n",
                "ADD CONSTRAINT FK_ORDtoEMP\n",
                "\tFOREIGN KEY (fkEmployee)\n",
                "\t REFERENCES dim.Employees(EmployeeID)\n",
                ";\n",
                "\n",
                "/*********************************************************/\n",
                "/******************  ProductsPerf f.Table  ******************/\n",
                "/*********************************************************/\n",
                "\n",
                "IF EXISTS (SELECT * FROM INFORMATION_SCHEMA.TABLES WHERE TABLE_SCHEMA = 'f' AND TABLE_NAME = 'ProductPerf')\n",
                "BEGIN\n",
                "\tDROP TABLE f.ProductPerf;\n",
                "END\n",
                "\n",
                "CREATE TABLE f.ProductPerf(\n",
                "\tOrderID int NOT NULL,\n",
                "\tOrderDate int NOT NULL,\n",
                "\tfkProductID int NOT NULL,\n",
                "\tfkCustomerID int NOT NULL,\n",
                "\tUnitPrice money NOT NULL,\n",
                "\tQuantity smallint NOT NULL,\n",
                "\tDiscount float NOT NULL,\n",
                "\tDiscFlag int NOT NULL,\n",
                "\tLineTotal money NULL\n",
                ");\n",
                "\n",
                "ALTER TABLE f.ProductPerf\n",
                "ADD CONSTRAINT PK_ProdPerf PRIMARY KEY(OrderID, fkProductID)\n",
                "\n",
                "ALTER TABLE f.ProductPerf\n",
                "ADD CONSTRAINT FK_PRODtoCAL\n",
                "\tFOREIGN KEY (OrderDate)\n",
                "\t REFERENCES dim.Calendar(pkCalendar)\n",
                ";\n",
                "\n",
                "ALTER TABLE f.ProductPerf\n",
                "ADD CONSTRAINT FK_PRODtoPROD\n",
                "\tFOREIGN KEY (fkProductID)\n",
                "\t REFERENCES dim.Products(pkProdId)\n",
                ";\n",
                "\n",
                "ALTER TABLE f.ProductPerf\n",
                "ADD CONSTRAINT FK_PRODtoCUST\n",
                "\tFOREIGN KEY (fkCustomerID)\n",
                "\t REFERENCES dim.Customers(pkCustomer)\n",
                ";"
            ],
            "metadata": {
                "id": "zkDSOHPb8sBU",
                "azdata_cell_guid": "91b5faf8-d6de-4eb1-aa32-181b31e58eac",
                "language": "sql"
            },
            "outputs": [
                {
                    "output_type": "display_data",
                    "data": {
                        "text/html": "Commands completed successfully."
                    },
                    "metadata": {}
                },
                {
                    "output_type": "display_data",
                    "data": {
                        "text/html": "Commands completed successfully."
                    },
                    "metadata": {}
                },
                {
                    "output_type": "display_data",
                    "data": {
                        "text/html": "Total execution time: 00:00:00.046"
                    },
                    "metadata": {}
                }
            ],
            "execution_count": 7
        }
    ]
}